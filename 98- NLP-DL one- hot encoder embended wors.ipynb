{
 "cells": [
  {
   "cell_type": "code",
   "execution_count": 1,
   "id": "edc800d0-d2db-404c-b9e7-7f1824aeb956",
   "metadata": {},
   "outputs": [],
   "source": [
    "import numpy as np\n",
    "import pandas as pd\n",
    "import matplotlib.pyplot as plt\n",
    "\n",
    "import tensorflow as tf\n",
    "from tensorflow import keras\n",
    "from tensorflow.keras import layers\n",
    "from sklearn.metrics import classification_report"
   ]
  },
  {
   "cell_type": "code",
   "execution_count": 2,
   "id": "0edc3591-36b6-49ae-bdbb-2192a7b8c370",
   "metadata": {},
   "outputs": [
    {
     "name": "stdout",
     "output_type": "stream",
     "text": [
      "From: orourke@sophia.smith.edu (Joseph O'Rourke)\n",
      "Subject: Re: Delaunay Triangulation\n",
      "Organization: Smith College, Northampton, MA, US\n",
      "Lines: 22\n",
      "\n",
      "In article <lsk1v9INN93c@caspian.usc.edu> zyeh@caspian.usc.edu (zhenghao yeh) writes:\n",
      ">\n",
      ">Does anybody know what Delaunay Triangulation is?\n",
      ">Is there any reference to it? \n",
      ">Is it useful for creating 3-D objects? If yes, what's the advantage?\n",
      "\n",
      "There is a vast literature on Delaunay triangulations, literally\n",
      "hundreds of papers.  A program is even provided with every copy of \n",
      "Mathematica nowadays.  You might look at this if you are interested in \n",
      "using it for creating 3D objects:\n",
      "\n",
      "@article{Boissonnat5,\n",
      "  author = \"J.D. Boissonnat\",\n",
      "  title = \"Geometric Structures for Three-Dimensional Shape Representation\",\n",
      "  journal = \"ACM Transactions on Graphics\",\n",
      "  month = \"October\",\n",
      "  year = {1984},\n",
      "  volume = {3},\n",
      "  number = {4},\n",
      "  pages = {266-286}\n",
      "}\n",
      "\n",
      "\n",
      "0\n",
      "['comp.graphics', 'comp.windows.x', 'rec.autos', 'sci.space']\n"
     ]
    }
   ],
   "source": [
    "\n",
    "from sklearn.datasets import fetch_20newsgroups\n",
    "\n",
    "documents_train = fetch_20newsgroups(\n",
    "    subset = \"train\",\n",
    "    categories = [\"comp.graphics\", \"comp.windows.x\", \"rec.autos\", \"sci.space\"]\n",
    ")\n",
    "\n",
    "documents_test = fetch_20newsgroups(\n",
    "    subset = \"test\",\n",
    "    categories = [\"comp.graphics\", \"comp.windows.x\", \"rec.autos\", \"sci.space\"]\n",
    ")\n",
    "\n",
    "print(documents_train.data[0])\n",
    "print(documents_train.target[0])\n",
    "print(documents_train.target_names)\n"
   ]
  },
  {
   "cell_type": "code",
   "execution_count": 3,
   "id": "8600badf-6c4b-4e52-8ae9-432363884d14",
   "metadata": {},
   "outputs": [],
   "source": [
    "from sklearn.feature_extraction.text import CountVectorizer\n",
    "\n",
    "vectorizer = CountVectorizer()\n",
    "vectorizer.fit(documents_train.data)\n",
    "\n",
    "X_train = vectorizer.transform(documents_train.data)\n",
    "X_test = vectorizer.transform(documents_test.data)\n"
   ]
  },
  {
   "cell_type": "code",
   "execution_count": 4,
   "id": "c918e952-3930-4869-a20b-14d72fae3046",
   "metadata": {},
   "outputs": [],
   "source": [
    "# turning one-hot encoder\n",
    "text_vectorizer = layers.TextVectorization(\n",
    "\n",
    "    max_tokens = 2000,\n",
    "    output_mode = \"int\",\n",
    "    output_sequence_length = 20 # 20 word bags\n",
    ")\n",
    "\n",
    "text_vectorizer.adapt(documents_train.data)"
   ]
  },
  {
   "cell_type": "code",
   "execution_count": 5,
   "id": "8d618223-03fc-4414-8549-7bb6d49cb02d",
   "metadata": {},
   "outputs": [],
   "source": [
    "X_train = text_vectorizer(documents_train.data)\n",
    "X_test = text_vectorizer(documents_test.data)\n"
   ]
  },
  {
   "cell_type": "code",
   "execution_count": 6,
   "id": "ebafb7c8-e8f7-47f0-8de7-c64b150f48ae",
   "metadata": {},
   "outputs": [
    {
     "name": "stdout",
     "output_type": "stream",
     "text": [
      "(2364, 20)\n"
     ]
    }
   ],
   "source": [
    "print(X_train.shape)"
   ]
  },
  {
   "cell_type": "code",
   "execution_count": 7,
   "id": "29a98043-33c1-486b-94cb-4841884ef410",
   "metadata": {},
   "outputs": [
    {
     "data": {
      "text/plain": [
       "TensorShape([2364, 20, 2000])"
      ]
     },
     "execution_count": 7,
     "metadata": {},
     "output_type": "execute_result"
    }
   ],
   "source": [
    "X_train = tf.one_hot(X_train, depth = 2000)\n",
    "X_test = tf.one_hot(X_test, depth = 2000)\n",
    "X_train.shape"
   ]
  },
  {
   "cell_type": "code",
   "execution_count": 9,
   "id": "c3f1b87f-4886-4e40-ade0-16f6c7debd2c",
   "metadata": {},
   "outputs": [
    {
     "name": "stderr",
     "output_type": "stream",
     "text": [
      "C:\\Users\\Hefes\\anaconda\\Lib\\site-packages\\keras\\src\\layers\\rnn\\rnn.py:204: UserWarning: Do not pass an `input_shape`/`input_dim` argument to a layer. When using Sequential models, prefer using an `Input(shape)` object as the first layer in the model instead.\n",
      "  super().__init__(**kwargs)\n"
     ]
    }
   ],
   "source": [
    "mdl = keras.Sequential()\n",
    "mdl.add(layers.LSTM(128, input_shape = X_train.shape[1:]))\n",
    "mdl.add(layers.Dense(128, activation = \"relu\"))\n",
    "mdl.add(layers.Dense(4, activation = \"softmax\"))"
   ]
  },
  {
   "cell_type": "code",
   "execution_count": 18,
   "id": "ad349047-ee47-43ed-b1c3-e1f9b6a3116c",
   "metadata": {},
   "outputs": [
    {
     "name": "stdout",
     "output_type": "stream",
     "text": [
      "Epoch 1/5\n",
      "\u001b[1m74/74\u001b[0m \u001b[32m━━━━━━━━━━━━━━━━━━━━\u001b[0m\u001b[37m\u001b[0m \u001b[1m6s\u001b[0m 43ms/step - accuracy: 0.9846 - loss: 0.0489\n",
      "Epoch 2/5\n",
      "\u001b[1m74/74\u001b[0m \u001b[32m━━━━━━━━━━━━━━━━━━━━\u001b[0m\u001b[37m\u001b[0m \u001b[1m3s\u001b[0m 41ms/step - accuracy: 0.9809 - loss: 0.0580\n",
      "Epoch 3/5\n",
      "\u001b[1m74/74\u001b[0m \u001b[32m━━━━━━━━━━━━━━━━━━━━\u001b[0m\u001b[37m\u001b[0m \u001b[1m3s\u001b[0m 42ms/step - accuracy: 0.9932 - loss: 0.0225\n",
      "Epoch 4/5\n",
      "\u001b[1m74/74\u001b[0m \u001b[32m━━━━━━━━━━━━━━━━━━━━\u001b[0m\u001b[37m\u001b[0m \u001b[1m3s\u001b[0m 42ms/step - accuracy: 0.9958 - loss: 0.0130\n",
      "Epoch 5/5\n",
      "\u001b[1m74/74\u001b[0m \u001b[32m━━━━━━━━━━━━━━━━━━━━\u001b[0m\u001b[37m\u001b[0m \u001b[1m3s\u001b[0m 43ms/step - accuracy: 0.9969 - loss: 0.0087\n"
     ]
    },
    {
     "data": {
      "text/plain": [
       "<keras.src.callbacks.history.History at 0x1a1526dfa10>"
      ]
     },
     "execution_count": 18,
     "metadata": {},
     "output_type": "execute_result"
    }
   ],
   "source": [
    "mdl.compile(optimizer = \"adam\", loss = \"sparse_categorical_crossentropy\", metrics = [\"accuracy\"])\n",
    "mdl.fit(X_train, documents_train.target, epochs = 5)"
   ]
  },
  {
   "cell_type": "code",
   "execution_count": 19,
   "id": "845889eb-0847-4e6b-b466-f315b2fb2941",
   "metadata": {},
   "outputs": [
    {
     "name": "stdout",
     "output_type": "stream",
     "text": [
      "\u001b[1m50/50\u001b[0m \u001b[32m━━━━━━━━━━━━━━━━━━━━\u001b[0m\u001b[37m\u001b[0m \u001b[1m1s\u001b[0m 13ms/step - accuracy: 0.7783 - loss: 1.7205\n"
     ]
    },
    {
     "data": {
      "text/plain": [
       "[1.6270205974578857, 0.7846251726150513]"
      ]
     },
     "execution_count": 19,
     "metadata": {},
     "output_type": "execute_result"
    }
   ],
   "source": [
    "mdl.evaluate(X_test, documents_test.target)"
   ]
  },
  {
   "cell_type": "markdown",
   "id": "88dcf54b-c4b8-42b8-a406-b1867c033931",
   "metadata": {},
   "source": [
    "## embedded vector technic"
   ]
  },
  {
   "cell_type": "markdown",
   "id": "7d4aa709-bdf0-4bb2-a05e-d4a9b8ba6102",
   "metadata": {},
   "source": [
    "sparse matris ->> dense matris"
   ]
  },
  {
   "cell_type": "code",
   "execution_count": 26,
   "id": "bff8fcb6-19b8-484a-94f0-769dfe038e96",
   "metadata": {},
   "outputs": [
    {
     "name": "stdout",
     "output_type": "stream",
     "text": [
      "(2364, 200)\n"
     ]
    }
   ],
   "source": [
    "text_vectorizer = layers.TextVectorization(\n",
    "\n",
    "    max_tokens = 10000,\n",
    "    output_mode = \"int\",\n",
    "    output_sequence_length = 200 # 200 word bags\n",
    ")\n",
    "\n",
    "text_vectorizer.adapt(documents_train.data)\n",
    "X_train = text_vectorizer(documents_train.data)\n",
    "X_test = text_vectorizer(documents_test.data)\n",
    "print(X_train.shape)"
   ]
  },
  {
   "cell_type": "code",
   "execution_count": 31,
   "id": "8980ce33-6f0e-4b5d-b238-b6c090b284db",
   "metadata": {},
   "outputs": [
    {
     "name": "stdout",
     "output_type": "stream",
     "text": [
      "Epoch 1/20\n",
      "\u001b[1m74/74\u001b[0m \u001b[32m━━━━━━━━━━━━━━━━━━━━\u001b[0m\u001b[37m\u001b[0m \u001b[1m13s\u001b[0m 130ms/step - accuracy: 0.2892 - loss: 1.3823\n",
      "Epoch 2/20\n",
      "\u001b[1m74/74\u001b[0m \u001b[32m━━━━━━━━━━━━━━━━━━━━\u001b[0m\u001b[37m\u001b[0m \u001b[1m9s\u001b[0m 124ms/step - accuracy: 0.3690 - loss: 1.3633\n",
      "Epoch 3/20\n",
      "\u001b[1m74/74\u001b[0m \u001b[32m━━━━━━━━━━━━━━━━━━━━\u001b[0m\u001b[37m\u001b[0m \u001b[1m10s\u001b[0m 133ms/step - accuracy: 0.3858 - loss: 1.2532\n",
      "Epoch 4/20\n",
      "\u001b[1m74/74\u001b[0m \u001b[32m━━━━━━━━━━━━━━━━━━━━\u001b[0m\u001b[37m\u001b[0m \u001b[1m10s\u001b[0m 132ms/step - accuracy: 0.4495 - loss: 1.0865\n",
      "Epoch 5/20\n",
      "\u001b[1m74/74\u001b[0m \u001b[32m━━━━━━━━━━━━━━━━━━━━\u001b[0m\u001b[37m\u001b[0m \u001b[1m9s\u001b[0m 127ms/step - accuracy: 0.5067 - loss: 0.9973\n",
      "Epoch 6/20\n",
      "\u001b[1m74/74\u001b[0m \u001b[32m━━━━━━━━━━━━━━━━━━━━\u001b[0m\u001b[37m\u001b[0m \u001b[1m10s\u001b[0m 132ms/step - accuracy: 0.5417 - loss: 0.9505\n",
      "Epoch 7/20\n",
      "\u001b[1m74/74\u001b[0m \u001b[32m━━━━━━━━━━━━━━━━━━━━\u001b[0m\u001b[37m\u001b[0m \u001b[1m10s\u001b[0m 130ms/step - accuracy: 0.5852 - loss: 0.8641\n",
      "Epoch 8/20\n",
      "\u001b[1m74/74\u001b[0m \u001b[32m━━━━━━━━━━━━━━━━━━━━\u001b[0m\u001b[37m\u001b[0m \u001b[1m10s\u001b[0m 133ms/step - accuracy: 0.6649 - loss: 0.6258\n",
      "Epoch 9/20\n",
      "\u001b[1m74/74\u001b[0m \u001b[32m━━━━━━━━━━━━━━━━━━━━\u001b[0m\u001b[37m\u001b[0m \u001b[1m10s\u001b[0m 137ms/step - accuracy: 0.7377 - loss: 0.5173\n",
      "Epoch 10/20\n",
      "\u001b[1m74/74\u001b[0m \u001b[32m━━━━━━━━━━━━━━━━━━━━\u001b[0m\u001b[37m\u001b[0m \u001b[1m10s\u001b[0m 130ms/step - accuracy: 0.7797 - loss: 0.4474\n",
      "Epoch 11/20\n",
      "\u001b[1m74/74\u001b[0m \u001b[32m━━━━━━━━━━━━━━━━━━━━\u001b[0m\u001b[37m\u001b[0m \u001b[1m10s\u001b[0m 137ms/step - accuracy: 0.7959 - loss: 0.4044\n",
      "Epoch 12/20\n",
      "\u001b[1m74/74\u001b[0m \u001b[32m━━━━━━━━━━━━━━━━━━━━\u001b[0m\u001b[37m\u001b[0m \u001b[1m11s\u001b[0m 139ms/step - accuracy: 0.8205 - loss: 0.3265\n",
      "Epoch 13/20\n",
      "\u001b[1m74/74\u001b[0m \u001b[32m━━━━━━━━━━━━━━━━━━━━\u001b[0m\u001b[37m\u001b[0m \u001b[1m10s\u001b[0m 135ms/step - accuracy: 0.8165 - loss: 0.2954\n",
      "Epoch 14/20\n",
      "\u001b[1m74/74\u001b[0m \u001b[32m━━━━━━━━━━━━━━━━━━━━\u001b[0m\u001b[37m\u001b[0m \u001b[1m11s\u001b[0m 144ms/step - accuracy: 0.9018 - loss: 0.2479\n",
      "Epoch 15/20\n",
      "\u001b[1m74/74\u001b[0m \u001b[32m━━━━━━━━━━━━━━━━━━━━\u001b[0m\u001b[37m\u001b[0m \u001b[1m10s\u001b[0m 136ms/step - accuracy: 0.9476 - loss: 0.1827\n",
      "Epoch 16/20\n",
      "\u001b[1m74/74\u001b[0m \u001b[32m━━━━━━━━━━━━━━━━━━━━\u001b[0m\u001b[37m\u001b[0m \u001b[1m10s\u001b[0m 140ms/step - accuracy: 0.9713 - loss: 0.1090\n",
      "Epoch 17/20\n",
      "\u001b[1m74/74\u001b[0m \u001b[32m━━━━━━━━━━━━━━━━━━━━\u001b[0m\u001b[37m\u001b[0m \u001b[1m11s\u001b[0m 142ms/step - accuracy: 0.9876 - loss: 0.0647\n",
      "Epoch 18/20\n",
      "\u001b[1m74/74\u001b[0m \u001b[32m━━━━━━━━━━━━━━━━━━━━\u001b[0m\u001b[37m\u001b[0m \u001b[1m10s\u001b[0m 140ms/step - accuracy: 0.8853 - loss: 0.3436\n",
      "Epoch 19/20\n",
      "\u001b[1m74/74\u001b[0m \u001b[32m━━━━━━━━━━━━━━━━━━━━\u001b[0m\u001b[37m\u001b[0m \u001b[1m11s\u001b[0m 142ms/step - accuracy: 0.9644 - loss: 0.1162\n",
      "Epoch 20/20\n",
      "\u001b[1m74/74\u001b[0m \u001b[32m━━━━━━━━━━━━━━━━━━━━\u001b[0m\u001b[37m\u001b[0m \u001b[1m20s\u001b[0m 136ms/step - accuracy: 0.9891 - loss: 0.0563\n"
     ]
    },
    {
     "data": {
      "text/plain": [
       "<keras.src.callbacks.history.History at 0x1a152c23860>"
      ]
     },
     "execution_count": 31,
     "metadata": {},
     "output_type": "execute_result"
    }
   ],
   "source": [
    "mdl = keras.Sequential()\n",
    "\n",
    "\n",
    "mdl.add(layers.Embedding(input_dim = 10000, output_dim = 128)) # converting small matrix with embedded technic\n",
    "\n",
    "mdl.add(layers.LSTM(128))\n",
    "\n",
    "mdl.add(layers.Dense(128, activation = \"relu\"))\n",
    "mdl.add(layers.Dense(4, activation = \"softmax\"))\n",
    "mdl.compile(optimizer = \"adam\", loss = \"sparse_categorical_crossentropy\", metrics = [\"accuracy\"])\n",
    "mdl.fit(X_train, documents_train.target, epochs = 20)"
   ]
  },
  {
   "cell_type": "code",
   "execution_count": 32,
   "id": "24450d66-edea-487e-aead-7dda25b500a6",
   "metadata": {},
   "outputs": [
    {
     "name": "stdout",
     "output_type": "stream",
     "text": [
      "\u001b[1m50/50\u001b[0m \u001b[32m━━━━━━━━━━━━━━━━━━━━\u001b[0m\u001b[37m\u001b[0m \u001b[1m3s\u001b[0m 39ms/step - accuracy: 0.7666 - loss: 1.0921\n"
     ]
    },
    {
     "data": {
      "text/plain": [
       "[1.0445990562438965, 0.7750952839851379]"
      ]
     },
     "execution_count": 32,
     "metadata": {},
     "output_type": "execute_result"
    }
   ],
   "source": [
    "mdl.evaluate(X_test, documents_test.target)"
   ]
  },
  {
   "cell_type": "code",
   "execution_count": 33,
   "id": "2b04b906-0411-4cb4-8159-8d559be2e587",
   "metadata": {},
   "outputs": [
    {
     "name": "stdout",
     "output_type": "stream",
     "text": [
      "              precision    recall  f1-score   support\n",
      "\n",
      "           0       0.73      0.69      0.71       389\n",
      "           1       0.73      0.78      0.76       395\n",
      "           2       0.79      0.81      0.80       396\n",
      "           3       0.88      0.84      0.85       394\n",
      "\n",
      "    accuracy                           0.78      1574\n",
      "   macro avg       0.78      0.78      0.78      1574\n",
      "weighted avg       0.78      0.78      0.78      1574\n",
      "\n"
     ]
    }
   ],
   "source": [
    "print(classification_report(documents_test.target, np.argmax(y_pred, axis = 1)))"
   ]
  },
  {
   "cell_type": "code",
   "execution_count": null,
   "id": "56188bf1-e9b3-4779-bfd4-b3d6cb9a54ef",
   "metadata": {},
   "outputs": [],
   "source": []
  }
 ],
 "metadata": {
  "kernelspec": {
   "display_name": "Python 3 (ipykernel)",
   "language": "python",
   "name": "python3"
  },
  "language_info": {
   "codemirror_mode": {
    "name": "ipython",
    "version": 3
   },
   "file_extension": ".py",
   "mimetype": "text/x-python",
   "name": "python",
   "nbconvert_exporter": "python",
   "pygments_lexer": "ipython3",
   "version": "3.12.4"
  }
 },
 "nbformat": 4,
 "nbformat_minor": 5
}
