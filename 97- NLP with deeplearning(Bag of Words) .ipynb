{
 "cells": [
  {
   "cell_type": "markdown",
   "id": "385ee325-1ed8-4003-87ff-caf4c8825242",
   "metadata": {},
   "source": [
    "## Bag of Words"
   ]
  },
  {
   "cell_type": "code",
   "execution_count": 17,
   "id": "be1cb6ca-2a73-4e03-bbd2-ff6184f770fb",
   "metadata": {},
   "outputs": [],
   "source": [
    "import pandas as pd\n",
    "import numpy as np\n",
    "import matplotlib.pyplot as plt\n",
    "import tensorflow as tf\n",
    "from tensorflow import keras\n",
    "from tensorflow.keras import layers\n",
    "from sklearn.metrics import classification_report\n",
    "from sklearn.datasets import fetch_20newsgroups"
   ]
  },
  {
   "cell_type": "code",
   "execution_count": 2,
   "id": "e0c34a13-a42b-45f3-b1ba-3d871528c81e",
   "metadata": {},
   "outputs": [],
   "source": [
    "# Defining search categories\n",
    "\n",
    "documents_train = fetch_20newsgroups(\n",
    "    subset = \"train\",\n",
    "    categories = [\"comp.graphics\", \"comp.windows.x\", \"rec.autos\", \"sci.space\"]\n",
    "    \n",
    ")\n",
    "\n",
    "documents_test = fetch_20newsgroups(\n",
    "    subset = \"test\",\n",
    "    categories = [\"comp.graphics\", \"comp.windows.x\", \"rec.autos\", \"sci.space\"]\n",
    "    \n",
    ")"
   ]
  },
  {
   "cell_type": "code",
   "execution_count": 3,
   "id": "92868735-0656-42db-be45-2c7b99d92900",
   "metadata": {},
   "outputs": [
    {
     "name": "stdout",
     "output_type": "stream",
     "text": [
      "From: orourke@sophia.smith.edu (Joseph O'Rourke)\n",
      "Subject: Re: Delaunay Triangulation\n",
      "Organization: Smith College, Northampton, MA, US\n",
      "Lines: 22\n",
      "\n",
      "In article <lsk1v9INN93c@caspian.usc.edu> zyeh@caspian.usc.edu (zhenghao yeh) writes:\n",
      ">\n",
      ">Does anybody know what Delaunay Triangulation is?\n",
      ">Is there any reference to it? \n",
      ">Is it useful for creating 3-D objects? If yes, what's the advantage?\n",
      "\n",
      "There is a vast literature on Delaunay triangulations, literally\n",
      "hundreds of papers.  A program is even provided with every copy of \n",
      "Mathematica nowadays.  You might look at this if you are interested in \n",
      "using it for creating 3D objects:\n",
      "\n",
      "@article{Boissonnat5,\n",
      "  author = \"J.D. Boissonnat\",\n",
      "  title = \"Geometric Structures for Three-Dimensional Shape Representation\",\n",
      "  journal = \"ACM Transactions on Graphics\",\n",
      "  month = \"October\",\n",
      "  year = {1984},\n",
      "  volume = {3},\n",
      "  number = {4},\n",
      "  pages = {266-286}\n",
      "}\n",
      "\n",
      "\n",
      "0\n",
      "target names ['comp.graphics', 'comp.windows.x', 'rec.autos', 'sci.space']\n"
     ]
    }
   ],
   "source": [
    "print(documents_train.data[0])\n",
    "print(documents_train.target[0])\n",
    "print(\"target names\", documents_train.target_names)"
   ]
  },
  {
   "cell_type": "code",
   "execution_count": 11,
   "id": "a0659976-dd3b-42f7-9126-da5b94c113ff",
   "metadata": {},
   "outputs": [],
   "source": [
    "# Term Frequency-Inverse Document Frequency.\n",
    "text_vectorizer = layers.TextVectorization(\n",
    "    max_tokens = 5000,\n",
    "    output_mode = \"tf_idf\"\n",
    ")\n",
    "\n",
    "text_vectorizer.adapt(documents_train.data)\n",
    "\n",
    "X_train = text_vectorizer(documents_train.data)\n",
    "X_test = text_vectorizer(documents_test.data)"
   ]
  },
  {
   "cell_type": "code",
   "execution_count": 13,
   "id": "75b35737-0847-4e2e-8743-d949b8f6f6cb",
   "metadata": {},
   "outputs": [
    {
     "data": {
      "text/plain": [
       "<tf.Tensor: shape=(2364, 5000), dtype=float32, numpy=\n",
       "array([[ 78.40026  ,   0.7299776,   0.765898 , ...,   0.       ,\n",
       "          0.       ,   0.       ],\n",
       "       [ 78.40026  ,   0.7299776,   2.297694 , ...,   0.       ,\n",
       "          0.       ,   0.       ],\n",
       "       [ 27.670681 ,   3.649888 ,   1.531796 , ...,   0.       ,\n",
       "          0.       ,   0.       ],\n",
       "       ...,\n",
       "       [ 59.95314  ,   5.1098433,   1.531796 , ...,   0.       ,\n",
       "          0.       ,   0.       ],\n",
       "       [156.80052  ,  18.979418 ,   7.65898  , ...,   0.       ,\n",
       "          0.       ,   0.       ],\n",
       "       [152.18875  ,   8.759731 ,   5.361286 , ...,   0.       ,\n",
       "          0.       ,   0.       ]], dtype=float32)>"
      ]
     },
     "execution_count": 13,
     "metadata": {},
     "output_type": "execute_result"
    }
   ],
   "source": [
    "X_train"
   ]
  },
  {
   "cell_type": "code",
   "execution_count": 14,
   "id": "5874d492-a8a3-4d6d-9601-1e3061e5f23e",
   "metadata": {},
   "outputs": [],
   "source": [
    "mdl = keras.Sequential()\n",
    "mdl.add(layers.Dense(256, activation = \"relu\", input_shape = (X_train.shape[1], )))\n",
    "mdl.add(layers.Dense(128, activation = \"relu\"))\n",
    "mdl.add(layers.Dense(64, activation = \"relu\"))\n",
    "mdl.add(layers.Dense(4, activation = \"softmax\"))\n",
    "\n",
    "mdl.compile(optimizer = \"adam\", loss= \"sparse_categorical_crossentropy\", metrics = [\"accuracy\"])"
   ]
  },
  {
   "cell_type": "code",
   "execution_count": 21,
   "id": "bf37de9b-340d-4c92-b385-fce1f31ec3ea",
   "metadata": {},
   "outputs": [
    {
     "name": "stdout",
     "output_type": "stream",
     "text": [
      "\u001b[1m74/74\u001b[0m \u001b[32m━━━━━━━━━━━━━━━━━━━━\u001b[0m\u001b[37m\u001b[0m \u001b[1m1s\u001b[0m 13ms/step - accuracy: 1.0000 - loss: 5.3866e-05\n",
      "\u001b[1m50/50\u001b[0m \u001b[32m━━━━━━━━━━━━━━━━━━━━\u001b[0m\u001b[37m\u001b[0m \u001b[1m0s\u001b[0m 5ms/step\n"
     ]
    }
   ],
   "source": [
    "mdl.fit(X_train, documents_train.target, epochs = 1)\n",
    "y_pred = mdl.predict(X_test)"
   ]
  },
  {
   "cell_type": "code",
   "execution_count": 22,
   "id": "bf1ec216-30a8-4a22-95fc-868c18a70f83",
   "metadata": {
    "scrolled": true
   },
   "outputs": [
    {
     "name": "stdout",
     "output_type": "stream",
     "text": [
      "              precision    recall  f1-score   support\n",
      "\n",
      "           0       0.80      0.85      0.82       389\n",
      "           1       0.90      0.83      0.86       395\n",
      "           2       0.97      0.95      0.96       396\n",
      "           3       0.92      0.95      0.94       394\n",
      "\n",
      "    accuracy                           0.90      1574\n",
      "   macro avg       0.90      0.90      0.90      1574\n",
      "weighted avg       0.90      0.90      0.90      1574\n",
      "\n"
     ]
    }
   ],
   "source": [
    "print(classification_report(documents_test.target, np.argmax(y_pred, axis = 1)))"
   ]
  },
  {
   "cell_type": "code",
   "execution_count": null,
   "id": "d212097b-b6d8-43f4-9558-fa112d668c48",
   "metadata": {},
   "outputs": [],
   "source": []
  },
  {
   "cell_type": "code",
   "execution_count": null,
   "id": "d06643c5-3c73-4b73-ab95-c3934ede5838",
   "metadata": {},
   "outputs": [],
   "source": []
  }
 ],
 "metadata": {
  "kernelspec": {
   "display_name": "Python 3 (ipykernel)",
   "language": "python",
   "name": "python3"
  },
  "language_info": {
   "codemirror_mode": {
    "name": "ipython",
    "version": 3
   },
   "file_extension": ".py",
   "mimetype": "text/x-python",
   "name": "python",
   "nbconvert_exporter": "python",
   "pygments_lexer": "ipython3",
   "version": "3.12.4"
  }
 },
 "nbformat": 4,
 "nbformat_minor": 5
}
